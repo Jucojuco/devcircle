{
 "cells": [
  {
   "cell_type": "markdown",
   "metadata": {},
   "source": [
    "# Recomendação de Conteúdo - Filtragem Colaborativa\n",
    "\n",
    "Este notebook mostra os detalhes da construção e a avaliação de um recomendador de conteúdos, baseado em Filtragem Colaborativa. Em nosso experimento utilizaremos os dados fornecidos pela MovieLens, um dataset gratuito criado e mantido pelo grupo de pesquisas da Universidade de Minnesota (GroupLens).\n",
    "\n",
    "Dataset disponível em: https://grouplens.org/datasets/movielens\n",
    "\n",
    "Para executar este experimento, é necessário instalar os seguintes pacotes via <b>pip</b>:\n",
    "* pyspark\n",
    "* matplotlib\n",
    "* pandas"
   ]
  },
  {
   "cell_type": "code",
   "execution_count": 1,
   "metadata": {
    "collapsed": true
   },
   "outputs": [],
   "source": [
    "from pyspark.sql import SparkSession\n",
    "\n",
    "from pyspark.ml.evaluation import RegressionEvaluator\n",
    "from pyspark.ml.recommendation import ALS\n",
    "from pyspark.sql import Row\n",
    "\n",
    "import matplotlib.pyplot as plt\n",
    "import pandas as pd"
   ]
  },
  {
   "cell_type": "markdown",
   "metadata": {},
   "source": [
    "O dataset disponibilizado pela GroupLens é constituído por quatro dimensões, são elas: user_id, movie_id, rating e timestamp. Estes dados representam o consumo e a avaliação de um filme por um usuário.\n",
    "\n",
    "Os dados são lidos através de um RDD para que possam ser disponibilizados na estrutura de um Dataframe. Uma vez nessa estrutura os dados pode ser facilmente consultados e manipulados."
   ]
  },
  {
   "cell_type": "code",
   "execution_count": 2,
   "metadata": {
    "collapsed": true
   },
   "outputs": [],
   "source": [
    "spark = SparkSession.builder.appName(\"collaborative_filtering\").getOrCreate()\n",
    "lines = spark.read.text(\"ratings.csv\").rdd\n",
    "parts = lines.map(lambda row: row.value.split(\",\"))\n",
    "\n",
    "ratingsRDD = parts.map(lambda p: Row(user=int(p[0]), movie=int(p[1]), rating=float(p[2]), timestamp=long(p[3])))"
   ]
  },
  {
   "cell_type": "markdown",
   "metadata": {},
   "source": [
    "A seguir, apresentamos a disponibilização dos dados em um Dataframe:"
   ]
  },
  {
   "cell_type": "code",
   "execution_count": 3,
   "metadata": {},
   "outputs": [
    {
     "name": "stdout",
     "output_type": "stream",
     "text": [
      "+-----+------+----------+----+\n",
      "|movie|rating| timestamp|user|\n",
      "+-----+------+----------+----+\n",
      "|   31|   2.5|1260759144|   1|\n",
      "| 1029|   3.0|1260759179|   1|\n",
      "| 1061|   3.0|1260759182|   1|\n",
      "| 1129|   2.0|1260759185|   1|\n",
      "| 1172|   4.0|1260759205|   1|\n",
      "+-----+------+----------+----+\n",
      "only showing top 5 rows\n",
      "\n"
     ]
    }
   ],
   "source": [
    "ratings = spark.createDataFrame(ratingsRDD)\n",
    "ratings.show(5)"
   ]
  },
  {
   "cell_type": "markdown",
   "metadata": {},
   "source": [
    "Com o objetivo de medir a acurácia e capacidade de generalização do recomendador de conteúdos, vamos separar o dataset em duas partes: Treino e teste. O dataset de treino é composto por 80% dos dados e será utilizado para treinar o recomendador. Os 20% dos dados que são desconhecidos pelo recomendador (conjunto de teste) será utilizado para medir a capacidade do modelo em predizer a avaliação que um usuário daria para um filme, em outras palavras, o quanto um usuário vai gostar de um filme."
   ]
  },
  {
   "cell_type": "code",
   "execution_count": 4,
   "metadata": {
    "collapsed": true
   },
   "outputs": [],
   "source": [
    "(training, test) = ratings.randomSplit([0.8, 0.2])"
   ]
  },
  {
   "cell_type": "markdown",
   "metadata": {},
   "source": [
    "A seguir, criamos e treinamos um modelo utilizando o dataset de treino. Para evitar exceções geradas pelo cold start, atribuímos o valor \"drop\" ao parâmetro \"coldStartStrategy\"; isso faz com que um dado que esteja no conjunto de teste e não esteja no conjunto de treino seja ignorado durante a validação."
   ]
  },
  {
   "cell_type": "code",
   "execution_count": 5,
   "metadata": {
    "collapsed": true
   },
   "outputs": [],
   "source": [
    "als = ALS(maxIter=5, regParam=0.01, userCol=\"user\", itemCol=\"movie\", ratingCol=\"rating\", coldStartStrategy=\"drop\")\n",
    "model = als.fit(training)"
   ]
  },
  {
   "cell_type": "markdown",
   "metadata": {},
   "source": [
    "Depois de treinado, utilizaremos o modelo para predizer as notas que cada usuário daria para cada filme. Estas predições são representadas em uma estrutura de Dataframe. Para avaliar a capacidade de predição do modelo, utilizaremos uma regressão para analisar o quanto os valores preditos se desviam em relação aos valores reais."
   ]
  },
  {
   "cell_type": "code",
   "execution_count": 6,
   "metadata": {},
   "outputs": [
    {
     "name": "stdout",
     "output_type": "stream",
     "text": [
      "Root-mean-square error = 1.11036567295\n"
     ]
    }
   ],
   "source": [
    "predictions = model.transform(test)\n",
    "evaluator = RegressionEvaluator(metricName=\"rmse\", labelCol=\"rating\", predictionCol=\"prediction\")\n",
    "rmse = evaluator.evaluate(predictions)\n",
    "print(\"Root-mean-square error = \" + str(rmse))"
   ]
  },
  {
   "cell_type": "markdown",
   "metadata": {},
   "source": [
    "A meneira mais comum de avaliar os resultados de uma regressão é olhando a raiz do erro quadrático médio, no entanto essa medida por si só não mostra as situações onde o modelo tem melhor ou pior comportamento.\n",
    "\n",
    "A seguir apresentamos a matriz de resultados preditos:"
   ]
  },
  {
   "cell_type": "code",
   "execution_count": 7,
   "metadata": {},
   "outputs": [
    {
     "name": "stdout",
     "output_type": "stream",
     "text": [
      "+-----+------+---------+----+----------+\n",
      "|movie|rating|timestamp|user|prediction|\n",
      "+-----+------+---------+----+----------+\n",
      "|463  |2.0   |976424451|452 |3.1934102 |\n",
      "|463  |4.0   |956685706|242 |4.205702  |\n",
      "|471  |3.0   |939718996|306 |3.6135452 |\n",
      "|471  |3.0   |855192558|19  |3.9524672 |\n",
      "|471  |4.0   |848526594|92  |5.4203753 |\n",
      "+-----+------+---------+----+----------+\n",
      "only showing top 5 rows\n",
      "\n"
     ]
    }
   ],
   "source": [
    "predictions.show(5, truncate = False)"
   ]
  },
  {
   "cell_type": "markdown",
   "metadata": {},
   "source": [
    "Para avaliar as situações em que o modelo se comporta bem, vamos utilizar histogramas que medem o desempenho do recomendados para cada classe de nota (1 a 5).\n",
    "\n",
    "A seguir, definimos uma função para plotar os histogramas:"
   ]
  },
  {
   "cell_type": "code",
   "execution_count": 8,
   "metadata": {
    "collapsed": true
   },
   "outputs": [],
   "source": [
    "def plot_hist(data, h=0.4):\n",
    "    %matplotlib inline\n",
    "    \n",
    "    n, bins, patches = plt.hist(data, 20, normed=5, facecolor='g', alpha=0.9)\n",
    "    plt.xlabel('Value')\n",
    "    plt.ylabel('Quantity')\n",
    "    plt.title('Histogram')\n",
    "    plt.axis([0, 7, 0, h])\n",
    "    plt.grid(True)\n",
    "\n",
    "    plt.show()"
   ]
  },
  {
   "cell_type": "markdown",
   "metadata": {},
   "source": [
    "Comportamento de predições da Nota 1:"
   ]
  },
  {
   "cell_type": "code",
   "execution_count": 9,
   "metadata": {},
   "outputs": [
    {
     "data": {
      "image/png": "[encoded data removed]",
      "text/plain": [
       "<matplotlib.figure.Figure at 0x7fe5e2be8e10>"
      ]
     },
     "metadata": {},
     "output_type": "display_data"
    }
   ],
   "source": [
    "_1 = predictions.filter(predictions.rating == 1).cache()\n",
    "data = [i.prediction for i in _1.select(\"prediction\").collect()]\n",
    "\n",
    "plot_hist(data)"
   ]
  },
  {
   "cell_type": "markdown",
   "metadata": {},
   "source": [
    "Comportamento de predições da Nota 2:"
   ]
  },
  {
   "cell_type": "code",
   "execution_count": 10,
   "metadata": {},
   "outputs": [
    {
     "data": {
      "image/png": "[encoded data removed]",
      "text/plain": [
       "<matplotlib.figure.Figure at 0x7fe5e28d4210>"
      ]
     },
     "metadata": {},
     "output_type": "display_data"
    }
   ],
   "source": [
    "_2 = predictions.filter(predictions.rating == 2).cache()\n",
    "data = [i.prediction for i in _2.select(\"prediction\").collect()]\n",
    "\n",
    "plot_hist(data, h=0.45)"
   ]
  },
  {
   "cell_type": "markdown",
   "metadata": {},
   "source": [
    "Comportamento de predições da Nota 3:"
   ]
  },
  {
   "cell_type": "code",
   "execution_count": 11,
   "metadata": {},
   "outputs": [
    {
     "data": {
      "image/png": "[encoded data removed]",
      "text/plain": [
       "<matplotlib.figure.Figure at 0x7fe5e1f7fbd0>"
      ]
     },
     "metadata": {},
     "output_type": "display_data"
    }
   ],
   "source": [
    "_3 = predictions.filter(predictions.rating == 3).cache()\n",
    "data = [i.prediction for i in _3.select(\"prediction\").collect()]\n",
    "\n",
    "plot_hist(data, h=0.55)"
   ]
  },
  {
   "cell_type": "markdown",
   "metadata": {},
   "source": [
    "Comportamento de predições da Nota 4:"
   ]
  },
  {
   "cell_type": "code",
   "execution_count": 12,
   "metadata": {},
   "outputs": [
    {
     "data": {
      "image/png": "[encoded data removed]",
      "text/plain": [
       "<matplotlib.figure.Figure at 0x7fe5e1df1ad0>"
      ]
     },
     "metadata": {},
     "output_type": "display_data"
    }
   ],
   "source": [
    "_4 = predictions.filter(predictions.rating == 4).cache()\n",
    "data = [i.prediction for i in _4.select(\"prediction\").collect()]\n",
    "\n",
    "plot_hist(data, h=0.6)"
   ]
  },
  {
   "cell_type": "markdown",
   "metadata": {},
   "source": [
    "Comportamento de predições da Nota 5:"
   ]
  },
  {
   "cell_type": "code",
   "execution_count": 13,
   "metadata": {},
   "outputs": [
    {
     "data": {
      "image/png": "[encoded data removed]",
      "text/plain": [
       "<matplotlib.figure.Figure at 0x7fe5e1d36d90>"
      ]
     },
     "metadata": {},
     "output_type": "display_data"
    }
   ],
   "source": [
    "_5 = predictions.filter(predictions.rating == 5).cache()\n",
    "data = [i.prediction for i in _5.select(\"prediction\").collect()]\n",
    "\n",
    "plot_hist(data, h=0.55)"
   ]
  },
  {
   "cell_type": "markdown",
   "metadata": {},
   "source": [
    "A seguir, vamos calcular a matriz de recomendações para os usuários. Neste experimento vamos calcular cinco recomendações para cada usuário."
   ]
  },
  {
   "cell_type": "code",
   "execution_count": 14,
   "metadata": {},
   "outputs": [
    {
     "name": "stdout",
     "output_type": "stream",
     "text": [
      "+----+-------------------------------------------------------------------------------------------+\n",
      "|user|recommendations                                                                            |\n",
      "+----+-------------------------------------------------------------------------------------------+\n",
      "|1   |[[239,8.352067], [714,8.126509], [278,7.8944597], [506,7.5292068], [4835,7.5120835]]       |\n",
      "|2   |[[3262,8.654971], [3865,8.542012], [314,8.19064], [1177,7.8256755], [3015,7.7346544]]      |\n",
      "|3   |[[5791,8.753189], [1683,8.746555], [2071,8.262062], [2361,7.8517294], [2282,7.7536907]]    |\n",
      "|4   |[[2071,7.2641706], [1111,6.8859653], [938,6.7831316], [67504,6.7284102], [83411,6.7284102]]|\n",
      "|5   |[[714,6.3728347], [2071,6.2601466], [940,5.46173], [3952,5.4354405], [322,5.3901396]]      |\n",
      "+----+-------------------------------------------------------------------------------------------+\n",
      "only showing top 5 rows\n",
      "\n"
     ]
    }
   ],
   "source": [
    "recommendations = model.recommendForAllUsers(5).orderBy(\"user\")\n",
    "recommendations.show(5, truncate = False)"
   ]
  },
  {
   "cell_type": "markdown",
   "metadata": {},
   "source": [
    "Depois de calculadas, vamos exibir as recomendações e suas respectivas notas para o usuário de identificador 1:"
   ]
  },
  {
   "cell_type": "code",
   "execution_count": 15,
   "metadata": {},
   "outputs": [
    {
     "name": "stdout",
     "output_type": "stream",
     "text": [
      "+------------------------------------------------------------------------------------+\n",
      "|recommendations                                                                     |\n",
      "+------------------------------------------------------------------------------------+\n",
      "|[[239,8.352067], [714,8.126509], [278,7.8944597], [506,7.5292068], [4835,7.5120835]]|\n",
      "+------------------------------------------------------------------------------------+\n",
      "\n"
     ]
    }
   ],
   "source": [
    "df = recommendations.filter(recommendations.user == 1).select(\"recommendations\")\n",
    "df.show(truncate = False)"
   ]
  },
  {
   "cell_type": "markdown",
   "metadata": {},
   "source": [
    "Vamos isolar os identificadores dos filmes na ordem de recomendação, isso facilitará a manipulação."
   ]
  },
  {
   "cell_type": "code",
   "execution_count": 16,
   "metadata": {},
   "outputs": [
    {
     "name": "stdout",
     "output_type": "stream",
     "text": [
      "[239, 714, 278, 506, 4835]\n"
     ]
    }
   ],
   "source": [
    "movie_ids = [x.movie for x in df.collect()[0][0]]\n",
    "print movie_ids"
   ]
  },
  {
   "cell_type": "markdown",
   "metadata": {},
   "source": [
    "A seguir, carregamos o arquivo \"movie.csv\". Esse arquivo contém o identificador, título e gênero de cada filme."
   ]
  },
  {
   "cell_type": "code",
   "execution_count": 17,
   "metadata": {},
   "outputs": [
    {
     "data": {
      "text/html": [
       "<div>\n",
       "<style>\n",
       "    .dataframe thead tr:only-child th {\n",
       "        text-align: right;\n",
       "    }\n",
       "\n",
       "    .dataframe thead th {\n",
       "        text-align: left;\n",
       "    }\n",
       "\n",
       "    .dataframe tbody tr th {\n",
       "        vertical-align: top;\n",
       "    }\n",
       "</style>\n",
       "<table border=\"1\" class=\"dataframe\">\n",
       "  <thead>\n",
       "    <tr style=\"text-align: right;\">\n",
       "      <th></th>\n",
       "      <th>id</th>\n",
       "      <th>title</th>\n",
       "      <th>genres</th>\n",
       "    </tr>\n",
       "  </thead>\n",
       "  <tbody>\n",
       "    <tr>\n",
       "      <th>0</th>\n",
       "      <td>1</td>\n",
       "      <td>Toy Story (1995)</td>\n",
       "      <td>Adventure|Animation|Children|Comedy|Fantasy</td>\n",
       "    </tr>\n",
       "    <tr>\n",
       "      <th>1</th>\n",
       "      <td>2</td>\n",
       "      <td>Jumanji (1995)</td>\n",
       "      <td>Adventure|Children|Fantasy</td>\n",
       "    </tr>\n",
       "    <tr>\n",
       "      <th>2</th>\n",
       "      <td>3</td>\n",
       "      <td>Grumpier Old Men (1995)</td>\n",
       "      <td>Comedy|Romance</td>\n",
       "    </tr>\n",
       "    <tr>\n",
       "      <th>3</th>\n",
       "      <td>4</td>\n",
       "      <td>Waiting to Exhale (1995)</td>\n",
       "      <td>Comedy|Drama|Romance</td>\n",
       "    </tr>\n",
       "    <tr>\n",
       "      <th>4</th>\n",
       "      <td>5</td>\n",
       "      <td>Father of the Bride Part II (1995)</td>\n",
       "      <td>Comedy</td>\n",
       "    </tr>\n",
       "  </tbody>\n",
       "</table>\n",
       "</div>"
      ],
      "text/plain": [
       "   id                               title  \\\n",
       "0   1                    Toy Story (1995)   \n",
       "1   2                      Jumanji (1995)   \n",
       "2   3             Grumpier Old Men (1995)   \n",
       "3   4            Waiting to Exhale (1995)   \n",
       "4   5  Father of the Bride Part II (1995)   \n",
       "\n",
       "                                        genres  \n",
       "0  Adventure|Animation|Children|Comedy|Fantasy  \n",
       "1                   Adventure|Children|Fantasy  \n",
       "2                               Comedy|Romance  \n",
       "3                         Comedy|Drama|Romance  \n",
       "4                                       Comedy  "
      ]
     },
     "execution_count": 17,
     "metadata": {},
     "output_type": "execute_result"
    }
   ],
   "source": [
    "movies = pd.read_csv(\"movies.csv\", names=[\"id\", \"title\", \"genres\"])\n",
    "movies.head(5)"
   ]
  },
  {
   "cell_type": "markdown",
   "metadata": {},
   "source": [
    "A seguir, buscamos os filmes recomendados para o usuário de identificador 1, exibindo id, titulo e gênero dos filmes:"
   ]
  },
  {
   "cell_type": "code",
   "execution_count": 18,
   "metadata": {},
   "outputs": [
    {
     "data": {
      "text/html": [
       "<div>\n",
       "<style>\n",
       "    .dataframe thead tr:only-child th {\n",
       "        text-align: right;\n",
       "    }\n",
       "\n",
       "    .dataframe thead th {\n",
       "        text-align: left;\n",
       "    }\n",
       "\n",
       "    .dataframe tbody tr th {\n",
       "        vertical-align: top;\n",
       "    }\n",
       "</style>\n",
       "<table border=\"1\" class=\"dataframe\">\n",
       "  <thead>\n",
       "    <tr style=\"text-align: right;\">\n",
       "      <th></th>\n",
       "      <th>id</th>\n",
       "      <th>title</th>\n",
       "      <th>genres</th>\n",
       "    </tr>\n",
       "  </thead>\n",
       "  <tbody>\n",
       "    <tr>\n",
       "      <th>211</th>\n",
       "      <td>239</td>\n",
       "      <td>Goofy Movie, A (1995)</td>\n",
       "      <td>Animation|Children|Comedy|Romance</td>\n",
       "    </tr>\n",
       "    <tr>\n",
       "      <th>250</th>\n",
       "      <td>278</td>\n",
       "      <td>Miami Rhapsody (1995)</td>\n",
       "      <td>Comedy</td>\n",
       "    </tr>\n",
       "    <tr>\n",
       "      <th>452</th>\n",
       "      <td>506</td>\n",
       "      <td>Orlando (1992)</td>\n",
       "      <td>Drama|Fantasy|Romance</td>\n",
       "    </tr>\n",
       "    <tr>\n",
       "      <th>603</th>\n",
       "      <td>714</td>\n",
       "      <td>Dead Man (1995)</td>\n",
       "      <td>Drama|Mystery|Western</td>\n",
       "    </tr>\n",
       "    <tr>\n",
       "      <th>3777</th>\n",
       "      <td>4835</td>\n",
       "      <td>Coal Miner's Daughter (1980)</td>\n",
       "      <td>Drama</td>\n",
       "    </tr>\n",
       "  </tbody>\n",
       "</table>\n",
       "</div>"
      ],
      "text/plain": [
       "        id                         title                             genres\n",
       "211    239         Goofy Movie, A (1995)  Animation|Children|Comedy|Romance\n",
       "250    278         Miami Rhapsody (1995)                             Comedy\n",
       "452    506                Orlando (1992)              Drama|Fantasy|Romance\n",
       "603    714               Dead Man (1995)              Drama|Mystery|Western\n",
       "3777  4835  Coal Miner's Daughter (1980)                              Drama"
      ]
     },
     "execution_count": 18,
     "metadata": {},
     "output_type": "execute_result"
    }
   ],
   "source": [
    "movies.query(\"id in (%s)\" % (reduce(lambda x, y: str(x) + \",\" + str(y), movie_ids)))"
   ]
  },
  {
   "cell_type": "markdown",
   "metadata": {},
   "source": [
    "A seguir, exibimos a lista de filmes assistidos pelo usuário de identificador 1:"
   ]
  },
  {
   "cell_type": "code",
   "execution_count": 19,
   "metadata": {},
   "outputs": [
    {
     "data": {
      "text/html": [
       "<div>\n",
       "<style>\n",
       "    .dataframe thead tr:only-child th {\n",
       "        text-align: right;\n",
       "    }\n",
       "\n",
       "    .dataframe thead th {\n",
       "        text-align: left;\n",
       "    }\n",
       "\n",
       "    .dataframe tbody tr th {\n",
       "        vertical-align: top;\n",
       "    }\n",
       "</style>\n",
       "<table border=\"1\" class=\"dataframe\">\n",
       "  <thead>\n",
       "    <tr style=\"text-align: right;\">\n",
       "      <th></th>\n",
       "      <th>id</th>\n",
       "      <th>title</th>\n",
       "      <th>genres</th>\n",
       "    </tr>\n",
       "  </thead>\n",
       "  <tbody>\n",
       "    <tr>\n",
       "      <th>30</th>\n",
       "      <td>31</td>\n",
       "      <td>Dangerous Minds (1995)</td>\n",
       "      <td>Drama</td>\n",
       "    </tr>\n",
       "    <tr>\n",
       "      <th>833</th>\n",
       "      <td>1029</td>\n",
       "      <td>Dumbo (1941)</td>\n",
       "      <td>Animation|Children|Drama|Musical</td>\n",
       "    </tr>\n",
       "    <tr>\n",
       "      <th>859</th>\n",
       "      <td>1061</td>\n",
       "      <td>Sleepers (1996)</td>\n",
       "      <td>Thriller</td>\n",
       "    </tr>\n",
       "    <tr>\n",
       "      <th>906</th>\n",
       "      <td>1129</td>\n",
       "      <td>Escape from New York (1981)</td>\n",
       "      <td>Action|Adventure|Sci-Fi|Thriller</td>\n",
       "    </tr>\n",
       "    <tr>\n",
       "      <th>931</th>\n",
       "      <td>1172</td>\n",
       "      <td>Cinema Paradiso (Nuovo cinema Paradiso) (1989)</td>\n",
       "      <td>Drama</td>\n",
       "    </tr>\n",
       "    <tr>\n",
       "      <th>1017</th>\n",
       "      <td>1263</td>\n",
       "      <td>Deer Hunter, The (1978)</td>\n",
       "      <td>Drama|War</td>\n",
       "    </tr>\n",
       "    <tr>\n",
       "      <th>1041</th>\n",
       "      <td>1287</td>\n",
       "      <td>Ben-Hur (1959)</td>\n",
       "      <td>Action|Adventure|Drama</td>\n",
       "    </tr>\n",
       "    <tr>\n",
       "      <th>1047</th>\n",
       "      <td>1293</td>\n",
       "      <td>Gandhi (1982)</td>\n",
       "      <td>Drama</td>\n",
       "    </tr>\n",
       "    <tr>\n",
       "      <th>1083</th>\n",
       "      <td>1339</td>\n",
       "      <td>Dracula (Bram Stoker's Dracula) (1992)</td>\n",
       "      <td>Fantasy|Horror|Romance|Thriller</td>\n",
       "    </tr>\n",
       "    <tr>\n",
       "      <th>1087</th>\n",
       "      <td>1343</td>\n",
       "      <td>Cape Fear (1991)</td>\n",
       "      <td>Thriller</td>\n",
       "    </tr>\n",
       "    <tr>\n",
       "      <th>1111</th>\n",
       "      <td>1371</td>\n",
       "      <td>Star Trek: The Motion Picture (1979)</td>\n",
       "      <td>Adventure|Sci-Fi</td>\n",
       "    </tr>\n",
       "    <tr>\n",
       "      <th>1140</th>\n",
       "      <td>1405</td>\n",
       "      <td>Beavis and Butt-Head Do America (1996)</td>\n",
       "      <td>Adventure|Animation|Comedy|Crime</td>\n",
       "    </tr>\n",
       "    <tr>\n",
       "      <th>1515</th>\n",
       "      <td>1953</td>\n",
       "      <td>French Connection, The (1971)</td>\n",
       "      <td>Action|Crime|Thriller</td>\n",
       "    </tr>\n",
       "    <tr>\n",
       "      <th>1665</th>\n",
       "      <td>2105</td>\n",
       "      <td>Tron (1982)</td>\n",
       "      <td>Action|Adventure|Sci-Fi</td>\n",
       "    </tr>\n",
       "    <tr>\n",
       "      <th>1708</th>\n",
       "      <td>2150</td>\n",
       "      <td>Gods Must Be Crazy, The (1980)</td>\n",
       "      <td>Adventure|Comedy</td>\n",
       "    </tr>\n",
       "    <tr>\n",
       "      <th>1743</th>\n",
       "      <td>2193</td>\n",
       "      <td>Willow (1988)</td>\n",
       "      <td>Action|Adventure|Fantasy</td>\n",
       "    </tr>\n",
       "    <tr>\n",
       "      <th>1815</th>\n",
       "      <td>2294</td>\n",
       "      <td>Antz (1998)</td>\n",
       "      <td>Adventure|Animation|Children|Comedy|Fantasy</td>\n",
       "    </tr>\n",
       "    <tr>\n",
       "      <th>1962</th>\n",
       "      <td>2455</td>\n",
       "      <td>Fly, The (1986)</td>\n",
       "      <td>Drama|Horror|Sci-Fi|Thriller</td>\n",
       "    </tr>\n",
       "    <tr>\n",
       "      <th>2380</th>\n",
       "      <td>2968</td>\n",
       "      <td>Time Bandits (1981)</td>\n",
       "      <td>Adventure|Comedy|Fantasy|Sci-Fi</td>\n",
       "    </tr>\n",
       "    <tr>\n",
       "      <th>2925</th>\n",
       "      <td>3671</td>\n",
       "      <td>Blazing Saddles (1974)</td>\n",
       "      <td>Comedy|Western</td>\n",
       "    </tr>\n",
       "  </tbody>\n",
       "</table>\n",
       "</div>"
      ],
      "text/plain": [
       "        id                                           title  \\\n",
       "30      31                          Dangerous Minds (1995)   \n",
       "833   1029                                    Dumbo (1941)   \n",
       "859   1061                                 Sleepers (1996)   \n",
       "906   1129                     Escape from New York (1981)   \n",
       "931   1172  Cinema Paradiso (Nuovo cinema Paradiso) (1989)   \n",
       "1017  1263                         Deer Hunter, The (1978)   \n",
       "1041  1287                                  Ben-Hur (1959)   \n",
       "1047  1293                                   Gandhi (1982)   \n",
       "1083  1339          Dracula (Bram Stoker's Dracula) (1992)   \n",
       "1087  1343                                Cape Fear (1991)   \n",
       "1111  1371            Star Trek: The Motion Picture (1979)   \n",
       "1140  1405          Beavis and Butt-Head Do America (1996)   \n",
       "1515  1953                   French Connection, The (1971)   \n",
       "1665  2105                                     Tron (1982)   \n",
       "1708  2150                  Gods Must Be Crazy, The (1980)   \n",
       "1743  2193                                   Willow (1988)   \n",
       "1815  2294                                     Antz (1998)   \n",
       "1962  2455                                 Fly, The (1986)   \n",
       "2380  2968                             Time Bandits (1981)   \n",
       "2925  3671                          Blazing Saddles (1974)   \n",
       "\n",
       "                                           genres  \n",
       "30                                          Drama  \n",
       "833              Animation|Children|Drama|Musical  \n",
       "859                                      Thriller  \n",
       "906              Action|Adventure|Sci-Fi|Thriller  \n",
       "931                                         Drama  \n",
       "1017                                    Drama|War  \n",
       "1041                       Action|Adventure|Drama  \n",
       "1047                                        Drama  \n",
       "1083              Fantasy|Horror|Romance|Thriller  \n",
       "1087                                     Thriller  \n",
       "1111                             Adventure|Sci-Fi  \n",
       "1140             Adventure|Animation|Comedy|Crime  \n",
       "1515                        Action|Crime|Thriller  \n",
       "1665                      Action|Adventure|Sci-Fi  \n",
       "1708                             Adventure|Comedy  \n",
       "1743                     Action|Adventure|Fantasy  \n",
       "1815  Adventure|Animation|Children|Comedy|Fantasy  \n",
       "1962                 Drama|Horror|Sci-Fi|Thriller  \n",
       "2380              Adventure|Comedy|Fantasy|Sci-Fi  \n",
       "2925                               Comedy|Western  "
      ]
     },
     "execution_count": 19,
     "metadata": {},
     "output_type": "execute_result"
    }
   ],
   "source": [
    "view = ratings.filter(ratings.user == 1).select(\"movie\").collect()\n",
    "movies.query(\"id in (%s)\" % (\",\".join(\"{0}\".format(x.movie) for x in view)))"
   ]
  },
  {
   "cell_type": "code",
   "execution_count": null,
   "metadata": {
    "collapsed": true
   },
   "outputs": [],
   "source": []
  }
 ],
 "metadata": {
  "kernelspec": {
   "display_name": "Python 2",
   "language": "python",
   "name": "python2"
  },
  "language_info": {
   "codemirror_mode": {
    "name": "ipython",
    "version": 2
   },
   "file_extension": ".py",
   "mimetype": "text/x-python",
   "name": "python",
   "nbconvert_exporter": "python",
   "pygments_lexer": "ipython2",
   "version": "2.7.12"
  }
 },
 "nbformat": 4,
 "nbformat_minor": 2
}
